{
 "cells": [
  {
   "cell_type": "code",
   "execution_count": 1,
   "id": "12ecda7e-ef51-49ca-8771-243c36ebc31f",
   "metadata": {},
   "outputs": [],
   "source": [
    "import pandas as pd\n",
    "import numpy as np\n",
    "from sklearn.feature_extraction.text import CountVectorizer\n",
    "import matplotlib.pyplot as plt\n",
    "from sklearn.neighbors import KNeighborsClassifier\n",
    "from sklearn.feature_extraction.text import TfidfTransformer"
   ]
  },
  {
   "cell_type": "code",
   "execution_count": 2,
   "id": "73001522-ca0e-45e4-a675-1d716c018414",
   "metadata": {},
   "outputs": [
    {
     "data": {
      "text/html": [
       "<div>\n",
       "<style scoped>\n",
       "    .dataframe tbody tr th:only-of-type {\n",
       "        vertical-align: middle;\n",
       "    }\n",
       "\n",
       "    .dataframe tbody tr th {\n",
       "        vertical-align: top;\n",
       "    }\n",
       "\n",
       "    .dataframe thead th {\n",
       "        text-align: right;\n",
       "    }\n",
       "</style>\n",
       "<table border=\"1\" class=\"dataframe\">\n",
       "  <thead>\n",
       "    <tr style=\"text-align: right;\">\n",
       "      <th></th>\n",
       "      <th>id</th>\n",
       "      <th>description</th>\n",
       "      <th>severity</th>\n",
       "    </tr>\n",
       "  </thead>\n",
       "  <tbody>\n",
       "    <tr>\n",
       "      <th>0</th>\n",
       "      <td>91</td>\n",
       "      <td>document properties cannot be listed</td>\n",
       "      <td>major</td>\n",
       "    </tr>\n",
       "    <tr>\n",
       "      <th>1</th>\n",
       "      <td>103</td>\n",
       "      <td>layout bug: table cell overflows containing cell</td>\n",
       "      <td>normal</td>\n",
       "    </tr>\n",
       "    <tr>\n",
       "      <th>2</th>\n",
       "      <td>104</td>\n",
       "      <td>table saved as text: missing inter-column space</td>\n",
       "      <td>minor</td>\n",
       "    </tr>\n",
       "    <tr>\n",
       "      <th>3</th>\n",
       "      <td>105</td>\n",
       "      <td>nested &lt;TABLE&gt;s: bgcolor of inner table not re...</td>\n",
       "      <td>normal</td>\n",
       "    </tr>\n",
       "    <tr>\n",
       "      <th>4</th>\n",
       "      <td>133</td>\n",
       "      <td>Navigator draws entities like &amp;lt;&amp;amp;&amp;gt; as...</td>\n",
       "      <td>minor</td>\n",
       "    </tr>\n",
       "  </tbody>\n",
       "</table>\n",
       "</div>"
      ],
      "text/plain": [
       "    id                                        description severity\n",
       "0   91               document properties cannot be listed    major\n",
       "1  103   layout bug: table cell overflows containing cell   normal\n",
       "2  104    table saved as text: missing inter-column space    minor\n",
       "3  105  nested <TABLE>s: bgcolor of inner table not re...   normal\n",
       "4  133  Navigator draws entities like &lt;&amp;&gt; as...    minor"
      ]
     },
     "execution_count": 2,
     "metadata": {},
     "output_type": "execute_result"
    }
   ],
   "source": [
    "df = pd.read_csv(\"bug_data_exported.csv\")\n",
    "df.head()"
   ]
  },
  {
   "cell_type": "code",
   "execution_count": 3,
   "id": "9c1bed51-4d34-4276-9d35-1e45f22bdfc0",
   "metadata": {},
   "outputs": [],
   "source": [
    "df = df.dropna()\n"
   ]
  },
  {
   "cell_type": "code",
   "execution_count": 4,
   "id": "3ad9a209-d79d-44b1-9963-42c1fe19021d",
   "metadata": {},
   "outputs": [
    {
     "data": {
      "text/plain": [
       "normal      272520\n",
       "major        35898\n",
       "critical     31953\n",
       "minor        19451\n",
       "blocker       3694\n",
       "Name: severity, dtype: int64"
      ]
     },
     "execution_count": 4,
     "metadata": {},
     "output_type": "execute_result"
    }
   ],
   "source": [
    "df.severity.value_counts()"
   ]
  },
  {
   "cell_type": "code",
   "execution_count": 5,
   "id": "92f7137a-71f6-4eab-8cab-e9572432d03b",
   "metadata": {},
   "outputs": [],
   "source": [
    "df['severity_num'] = df.severity.map({'minor':0,'normal':1,'major':2,'critical':4,'blocker':5})\n"
   ]
  },
  {
   "cell_type": "code",
   "execution_count": 6,
   "id": "5851fca2-2aa7-4f01-9eec-cf863a408a63",
   "metadata": {},
   "outputs": [],
   "source": [
    "df_normal = df[df.severity_num==1]\n",
    "df_major = df[df.severity_num==2]\n",
    "df_critical = df[df.severity_num==4]\n",
    "df_minor = df[df.severity_num==0]\n",
    "df_blocker = df[df.severity_num==5]"
   ]
  },
  {
   "cell_type": "code",
   "execution_count": 7,
   "id": "bb3a985b-de2b-42bd-9d63-29dab12bcde4",
   "metadata": {},
   "outputs": [
    {
     "data": {
      "text/plain": [
       "normal      30000\n",
       "major       30000\n",
       "critical    30000\n",
       "minor       30000\n",
       "blocker     30000\n",
       "Name: severity, dtype: int64"
      ]
     },
     "execution_count": 7,
     "metadata": {},
     "output_type": "execute_result"
    }
   ],
   "source": [
    "from sklearn.utils import resample\n",
    "def resample_df(df):\n",
    "    return resample(df,replace=True,n_samples=30000,random_state=123)\n",
    "\n",
    "df_normal = resample_df(df_normal)\n",
    "df_major = resample_df(df_major)\n",
    "df_critical = resample_df(df_critical)\n",
    "df_minor = resample_df(df_minor)\n",
    "df_blocker = resample_df(df_blocker)\n",
    "\n",
    "df = pd.concat([df_normal,df_major,df_critical,df_minor,df_blocker])\n",
    "\n",
    "df.severity.value_counts()\n"
   ]
  },
  {
   "cell_type": "code",
   "execution_count": 8,
   "id": "576206af-f188-4875-90f4-1784692d182c",
   "metadata": {},
   "outputs": [
    {
     "data": {
      "text/html": [
       "<div>\n",
       "<style scoped>\n",
       "    .dataframe tbody tr th:only-of-type {\n",
       "        vertical-align: middle;\n",
       "    }\n",
       "\n",
       "    .dataframe tbody tr th {\n",
       "        vertical-align: top;\n",
       "    }\n",
       "\n",
       "    .dataframe thead th {\n",
       "        text-align: right;\n",
       "    }\n",
       "</style>\n",
       "<table border=\"1\" class=\"dataframe\">\n",
       "  <thead>\n",
       "    <tr style=\"text-align: right;\">\n",
       "      <th></th>\n",
       "      <th>id</th>\n",
       "      <th>description</th>\n",
       "      <th>severity</th>\n",
       "      <th>severity_num</th>\n",
       "    </tr>\n",
       "  </thead>\n",
       "  <tbody>\n",
       "    <tr>\n",
       "      <th>337673</th>\n",
       "      <td>752343</td>\n",
       "      <td>All tabs with screenshots,without site (for ac...</td>\n",
       "      <td>normal</td>\n",
       "      <td>1</td>\n",
       "    </tr>\n",
       "    <tr>\n",
       "      <th>37035</th>\n",
       "      <td>72500</td>\n",
       "      <td>dom table column handling is wrong</td>\n",
       "      <td>normal</td>\n",
       "      <td>1</td>\n",
       "    </tr>\n",
       "    <tr>\n",
       "      <th>23480</th>\n",
       "      <td>43909</td>\n",
       "      <td>&lt;popup orient=\"horizontal\"&gt; doesn't work</td>\n",
       "      <td>normal</td>\n",
       "      <td>1</td>\n",
       "    </tr>\n",
       "    <tr>\n",
       "      <th>268014</th>\n",
       "      <td>569516</td>\n",
       "      <td>\"smokescreen\" flash emulator doesn't work on m...</td>\n",
       "      <td>normal</td>\n",
       "      <td>1</td>\n",
       "    </tr>\n",
       "    <tr>\n",
       "      <th>270320</th>\n",
       "      <td>575254</td>\n",
       "      <td>Reduce TabBrowser XBL usage to minimum</td>\n",
       "      <td>normal</td>\n",
       "      <td>1</td>\n",
       "    </tr>\n",
       "  </tbody>\n",
       "</table>\n",
       "</div>"
      ],
      "text/plain": [
       "            id                                        description severity  \\\n",
       "337673  752343  All tabs with screenshots,without site (for ac...   normal   \n",
       "37035    72500                 dom table column handling is wrong   normal   \n",
       "23480    43909           <popup orient=\"horizontal\"> doesn't work   normal   \n",
       "268014  569516  \"smokescreen\" flash emulator doesn't work on m...   normal   \n",
       "270320  575254             Reduce TabBrowser XBL usage to minimum   normal   \n",
       "\n",
       "        severity_num  \n",
       "337673             1  \n",
       "37035              1  \n",
       "23480              1  \n",
       "268014             1  \n",
       "270320             1  "
      ]
     },
     "execution_count": 8,
     "metadata": {},
     "output_type": "execute_result"
    }
   ],
   "source": [
    "df.head()"
   ]
  },
  {
   "cell_type": "code",
   "execution_count": 9,
   "id": "45976fcb-f819-4086-9f48-0536997a8e20",
   "metadata": {},
   "outputs": [
    {
     "name": "stdout",
     "output_type": "stream",
     "text": [
      "(150000,)\n",
      "(150000,)\n"
     ]
    }
   ],
   "source": [
    "#define x as bug description and y as the severity\n",
    "x = df.description\n",
    "y = df.severity_num\n",
    "print(x.shape)\n",
    "print(y.shape)"
   ]
  },
  {
   "cell_type": "code",
   "execution_count": 10,
   "id": "28c8936f-82bf-4432-a153-6ac55f1c5791",
   "metadata": {},
   "outputs": [],
   "source": [
    "from sklearn.model_selection import train_test_split\n",
    "x_train,x_test,y_train,y_test = train_test_split(x,y,test_size=0.33)\n"
   ]
  },
  {
   "cell_type": "code",
   "execution_count": 11,
   "id": "81a454af-b2b7-4fef-8ef6-1670001acbfb",
   "metadata": {},
   "outputs": [],
   "source": [
    "#instantiate the vectorizer\n",
    "vect = CountVectorizer()\n",
    "vect.fit(x_train)\n",
    "x_train_dtm = vect.transform(x_train)\n",
    "tfdf_transformer = TfidfTransformer()\n",
    "x_train_tfdf = tfdf_transformer.fit_transform(x_train_dtm)"
   ]
  },
  {
   "cell_type": "code",
   "execution_count": null,
   "id": "e94c1e10-2f93-4321-935c-7be57d0f8c0a",
   "metadata": {},
   "outputs": [],
   "source": []
  },
  {
   "cell_type": "code",
   "execution_count": 12,
   "id": "8695e0ff-917e-40b0-bd4a-28ce78ec73b1",
   "metadata": {},
   "outputs": [],
   "source": [
    "knn = KNeighborsClassifier(n_neighbors=60,n_jobs=-1)\n",
    "clf = knn.fit(x_train_dtm,y_train)"
   ]
  },
  {
   "cell_type": "code",
   "execution_count": 13,
   "id": "0e19923a-214b-4d4e-b249-35872510c4f8",
   "metadata": {},
   "outputs": [],
   "source": [
    "test = [\"Navigator spawn a lot of error messages in infinite loop.\"]\n",
    "test_dtm = vect.transform(test)\n",
    "test_tidf = tfdf_transformer.transform(test_dtm)\n",
    "predicted = clf.predict(test_tidf)"
   ]
  },
  {
   "cell_type": "code",
   "execution_count": 14,
   "id": "c3315274-1512-4c7b-a669-08a639ad1be0",
   "metadata": {},
   "outputs": [
    {
     "data": {
      "text/plain": [
       "array([5])"
      ]
     },
     "execution_count": 14,
     "metadata": {},
     "output_type": "execute_result"
    }
   ],
   "source": [
    "predicted"
   ]
  },
  {
   "cell_type": "code",
   "execution_count": 15,
   "id": "3cbf26b9-b375-4d0c-a5d9-2099a7d3ad1c",
   "metadata": {},
   "outputs": [],
   "source": [
    "x_test_dtm = vect.transform(x_test)\n",
    "x_test_tidf = tfdf_transformer.transform(x_test_dtm)"
   ]
  },
  {
   "cell_type": "code",
   "execution_count": 16,
   "id": "b52f1715-c0ac-4599-8dff-732afe8eaa3d",
   "metadata": {},
   "outputs": [],
   "source": [
    "predicted = clf.predict(x_test_tidf)"
   ]
  },
  {
   "cell_type": "code",
   "execution_count": 17,
   "id": "5d46d476-42d9-445d-9657-1aa0ac418a21",
   "metadata": {},
   "outputs": [
    {
     "data": {
      "text/plain": [
       "array([4, 5, 1, ..., 5, 5, 5])"
      ]
     },
     "execution_count": 17,
     "metadata": {},
     "output_type": "execute_result"
    }
   ],
   "source": [
    "predicted"
   ]
  },
  {
   "cell_type": "code",
   "execution_count": 18,
   "id": "99c13ebd-1a46-4ecd-a3d7-c39294a317db",
   "metadata": {},
   "outputs": [
    {
     "data": {
      "text/plain": [
       "array([[   3, 2368,  239, 2227, 4986],\n",
       "       [  13, 2466,  268, 2164, 4961],\n",
       "       [   1, 2355,  317, 2326, 5050],\n",
       "       [   0, 1265,  442, 2242, 6005],\n",
       "       [   0, 1443,  316, 1478, 6565]])"
      ]
     },
     "execution_count": 18,
     "metadata": {},
     "output_type": "execute_result"
    }
   ],
   "source": [
    "from sklearn.metrics import confusion_matrix\n",
    "conf_mat = confusion_matrix(y_test, predicted)\n",
    "conf_mat"
   ]
  },
  {
   "cell_type": "code",
   "execution_count": 19,
   "id": "1681743a-6bfc-4d25-abe9-c554a15bb507",
   "metadata": {},
   "outputs": [
    {
     "data": {
      "text/plain": [
       "0.2342020202020202"
      ]
     },
     "execution_count": 19,
     "metadata": {},
     "output_type": "execute_result"
    }
   ],
   "source": [
    "from sklearn import metrics\n",
    "metrics.accuracy_score(y_test, predicted)"
   ]
  },
  {
   "cell_type": "code",
   "execution_count": null,
   "id": "4273d872-07a0-4076-9cd0-9a128da7b407",
   "metadata": {},
   "outputs": [],
   "source": []
  }
 ],
 "metadata": {
  "kernelspec": {
   "display_name": "Python 3 (ipykernel)",
   "language": "python",
   "name": "python3"
  },
  "language_info": {
   "codemirror_mode": {
    "name": "ipython",
    "version": 3
   },
   "file_extension": ".py",
   "mimetype": "text/x-python",
   "name": "python",
   "nbconvert_exporter": "python",
   "pygments_lexer": "ipython3",
   "version": "3.10.6"
  }
 },
 "nbformat": 4,
 "nbformat_minor": 5
}

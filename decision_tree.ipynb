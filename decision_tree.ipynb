{
 "cells": [
  {
   "cell_type": "code",
   "execution_count": 1,
   "id": "7886eb9a-1436-44b4-be84-fcaddff3b426",
   "metadata": {},
   "outputs": [],
   "source": [
    "import pandas as pd\n",
    "import numpy as np\n",
    "from sklearn.feature_extraction.text import CountVectorizer\n",
    "from sklearn.feature_extraction.text import TfidfTransformer\n",
    "import matplotlib.pyplot as plt\n",
    "from sklearn.model_selection import train_test_split\n",
    "from sklearn.feature_extraction.text import CountVectorizer\n",
    "from sklearn.svm import SVC\n",
    "from sklearn.metrics import classification_report\n",
    "import sklearn.metrics\n",
    "from sklearn.tree import DecisionTreeClassifier"
   ]
  },
  {
   "cell_type": "code",
   "execution_count": 2,
   "id": "e12e984c-6b88-47ef-94c3-245f2800e795",
   "metadata": {},
   "outputs": [
    {
     "data": {
      "text/html": [
       "<div>\n",
       "<style scoped>\n",
       "    .dataframe tbody tr th:only-of-type {\n",
       "        vertical-align: middle;\n",
       "    }\n",
       "\n",
       "    .dataframe tbody tr th {\n",
       "        vertical-align: top;\n",
       "    }\n",
       "\n",
       "    .dataframe thead th {\n",
       "        text-align: right;\n",
       "    }\n",
       "</style>\n",
       "<table border=\"1\" class=\"dataframe\">\n",
       "  <thead>\n",
       "    <tr style=\"text-align: right;\">\n",
       "      <th></th>\n",
       "      <th>id</th>\n",
       "      <th>description</th>\n",
       "      <th>severity</th>\n",
       "    </tr>\n",
       "  </thead>\n",
       "  <tbody>\n",
       "    <tr>\n",
       "      <th>0</th>\n",
       "      <td>91</td>\n",
       "      <td>document properties cannot be listed</td>\n",
       "      <td>major</td>\n",
       "    </tr>\n",
       "    <tr>\n",
       "      <th>1</th>\n",
       "      <td>103</td>\n",
       "      <td>layout bug: table cell overflows containing cell</td>\n",
       "      <td>normal</td>\n",
       "    </tr>\n",
       "    <tr>\n",
       "      <th>2</th>\n",
       "      <td>104</td>\n",
       "      <td>table saved as text: missing inter-column space</td>\n",
       "      <td>minor</td>\n",
       "    </tr>\n",
       "    <tr>\n",
       "      <th>3</th>\n",
       "      <td>105</td>\n",
       "      <td>nested &lt;TABLE&gt;s: bgcolor of inner table not re...</td>\n",
       "      <td>normal</td>\n",
       "    </tr>\n",
       "    <tr>\n",
       "      <th>4</th>\n",
       "      <td>133</td>\n",
       "      <td>Navigator draws entities like &amp;lt;&amp;amp;&amp;gt; as...</td>\n",
       "      <td>minor</td>\n",
       "    </tr>\n",
       "  </tbody>\n",
       "</table>\n",
       "</div>"
      ],
      "text/plain": [
       "    id                                        description severity\n",
       "0   91               document properties cannot be listed    major\n",
       "1  103   layout bug: table cell overflows containing cell   normal\n",
       "2  104    table saved as text: missing inter-column space    minor\n",
       "3  105  nested <TABLE>s: bgcolor of inner table not re...   normal\n",
       "4  133  Navigator draws entities like &lt;&amp;&gt; as...    minor"
      ]
     },
     "execution_count": 2,
     "metadata": {},
     "output_type": "execute_result"
    }
   ],
   "source": [
    "df = pd.read_csv(\"bug_data.csv\")\n",
    "df.head()"
   ]
  },
  {
   "cell_type": "code",
   "execution_count": 3,
   "id": "b678135f-99ed-4b29-8ac4-7315cb607708",
   "metadata": {},
   "outputs": [],
   "source": [
    "df.shape\n",
    "df.dtypes\n",
    "df['description'] = df['description'].astype('str')"
   ]
  },
  {
   "cell_type": "code",
   "execution_count": 4,
   "id": "f5ca1b5a-ab2e-4109-94cd-eab2fd8b79b6",
   "metadata": {},
   "outputs": [
    {
     "data": {
      "text/plain": [
       "id              int64\n",
       "description    object\n",
       "severity       object\n",
       "dtype: object"
      ]
     },
     "execution_count": 4,
     "metadata": {},
     "output_type": "execute_result"
    }
   ],
   "source": [
    "#remove null values\n",
    "df = df.dropna()\n",
    "df.dtypes"
   ]
  },
  {
   "cell_type": "code",
   "execution_count": 5,
   "id": "6e9795d7-7649-4984-b845-fee429c93c97",
   "metadata": {},
   "outputs": [
    {
     "data": {
      "text/plain": [
       "normal         272522\n",
       "major           35899\n",
       "critical        31953\n",
       "enhancement     23424\n",
       "minor           19451\n",
       "trivial          7716\n",
       "blocker          3694\n",
       "Name: severity, dtype: int64"
      ]
     },
     "execution_count": 5,
     "metadata": {},
     "output_type": "execute_result"
    }
   ],
   "source": [
    "df.severity.value_counts()"
   ]
  },
  {
   "cell_type": "code",
   "execution_count": 6,
   "id": "c91f9398-c394-4acb-9e31-9f7bd2b5026b",
   "metadata": {},
   "outputs": [],
   "source": [
    "df['severity_num'] = df.severity.map({'minor':0,'normal':1,'major':2,'critical':3,'blocker':4,'trivial' : 5, 'enhancement' : 6})\n",
    "# df['severity_num'] = df.severity.map({'minor':0,'normal':1,'major':2,'critical':3,'blocker':4})\n",
    "\n",
    "# df['severity_num'] = df.severity.map({'minor':0,'normal':1,'major':2,'critical':3})\n",
    "\n"
   ]
  },
  {
   "cell_type": "code",
   "execution_count": 7,
   "id": "18285cf2-58aa-4e48-9f4f-d3d98ff342c7",
   "metadata": {},
   "outputs": [
    {
     "data": {
      "text/html": [
       "<div>\n",
       "<style scoped>\n",
       "    .dataframe tbody tr th:only-of-type {\n",
       "        vertical-align: middle;\n",
       "    }\n",
       "\n",
       "    .dataframe tbody tr th {\n",
       "        vertical-align: top;\n",
       "    }\n",
       "\n",
       "    .dataframe thead th {\n",
       "        text-align: right;\n",
       "    }\n",
       "</style>\n",
       "<table border=\"1\" class=\"dataframe\">\n",
       "  <thead>\n",
       "    <tr style=\"text-align: right;\">\n",
       "      <th></th>\n",
       "      <th>id</th>\n",
       "      <th>description</th>\n",
       "      <th>severity</th>\n",
       "      <th>severity_num</th>\n",
       "    </tr>\n",
       "  </thead>\n",
       "  <tbody>\n",
       "    <tr>\n",
       "      <th>0</th>\n",
       "      <td>91</td>\n",
       "      <td>document properties cannot be listed</td>\n",
       "      <td>major</td>\n",
       "      <td>2</td>\n",
       "    </tr>\n",
       "    <tr>\n",
       "      <th>1</th>\n",
       "      <td>103</td>\n",
       "      <td>layout bug: table cell overflows containing cell</td>\n",
       "      <td>normal</td>\n",
       "      <td>1</td>\n",
       "    </tr>\n",
       "    <tr>\n",
       "      <th>2</th>\n",
       "      <td>104</td>\n",
       "      <td>table saved as text: missing inter-column space</td>\n",
       "      <td>minor</td>\n",
       "      <td>0</td>\n",
       "    </tr>\n",
       "    <tr>\n",
       "      <th>3</th>\n",
       "      <td>105</td>\n",
       "      <td>nested &lt;TABLE&gt;s: bgcolor of inner table not re...</td>\n",
       "      <td>normal</td>\n",
       "      <td>1</td>\n",
       "    </tr>\n",
       "    <tr>\n",
       "      <th>4</th>\n",
       "      <td>133</td>\n",
       "      <td>Navigator draws entities like &amp;lt;&amp;amp;&amp;gt; as...</td>\n",
       "      <td>minor</td>\n",
       "      <td>0</td>\n",
       "    </tr>\n",
       "    <tr>\n",
       "      <th>5</th>\n",
       "      <td>134</td>\n",
       "      <td>Navigator crashes w/ javascript setting textar...</td>\n",
       "      <td>critical</td>\n",
       "      <td>3</td>\n",
       "    </tr>\n",
       "    <tr>\n",
       "      <th>6</th>\n",
       "      <td>159</td>\n",
       "      <td>warning fix : ns/js/jsj/jsStubs.c</td>\n",
       "      <td>trivial</td>\n",
       "      <td>5</td>\n",
       "    </tr>\n",
       "    <tr>\n",
       "      <th>7</th>\n",
       "      <td>174</td>\n",
       "      <td>Failed assert on exit at mkgeturl.c:5855 (net_...</td>\n",
       "      <td>minor</td>\n",
       "      <td>0</td>\n",
       "    </tr>\n",
       "    <tr>\n",
       "      <th>8</th>\n",
       "      <td>213</td>\n",
       "      <td>showDocument(\"javascript:...\"); broken</td>\n",
       "      <td>major</td>\n",
       "      <td>2</td>\n",
       "    </tr>\n",
       "    <tr>\n",
       "      <th>9</th>\n",
       "      <td>220</td>\n",
       "      <td>Incorrect display of CP-1250 pages in Unix ver...</td>\n",
       "      <td>normal</td>\n",
       "      <td>1</td>\n",
       "    </tr>\n",
       "  </tbody>\n",
       "</table>\n",
       "</div>"
      ],
      "text/plain": [
       "    id                                        description  severity  \\\n",
       "0   91               document properties cannot be listed     major   \n",
       "1  103   layout bug: table cell overflows containing cell    normal   \n",
       "2  104    table saved as text: missing inter-column space     minor   \n",
       "3  105  nested <TABLE>s: bgcolor of inner table not re...    normal   \n",
       "4  133  Navigator draws entities like &lt;&amp;&gt; as...     minor   \n",
       "5  134  Navigator crashes w/ javascript setting textar...  critical   \n",
       "6  159                  warning fix : ns/js/jsj/jsStubs.c   trivial   \n",
       "7  174  Failed assert on exit at mkgeturl.c:5855 (net_...     minor   \n",
       "8  213             showDocument(\"javascript:...\"); broken     major   \n",
       "9  220  Incorrect display of CP-1250 pages in Unix ver...    normal   \n",
       "\n",
       "   severity_num  \n",
       "0             2  \n",
       "1             1  \n",
       "2             0  \n",
       "3             1  \n",
       "4             0  \n",
       "5             3  \n",
       "6             5  \n",
       "7             0  \n",
       "8             2  \n",
       "9             1  "
      ]
     },
     "execution_count": 7,
     "metadata": {},
     "output_type": "execute_result"
    }
   ],
   "source": [
    "#df = df.sort_values(by='severity_num')\n",
    "df.head(10)\n"
   ]
  },
  {
   "cell_type": "code",
   "execution_count": 8,
   "id": "56f2c0e4-5495-4419-987f-ad08df1fe2af",
   "metadata": {},
   "outputs": [],
   "source": [
    "df_normal = df[df.severity_num==1]\n",
    "df_major = df[df.severity_num==2]\n",
    "df_critical = df[df.severity_num==3]\n",
    "df_minor = df[df.severity_num==0]\n",
    "df_blocker = df[df.severity_num==4]\n",
    "# df_trivial = df[df.severity_num==5]\n",
    "# df_enhancement = df[df.severity_num==6]"
   ]
  },
  {
   "cell_type": "code",
   "execution_count": 9,
   "id": "5fe7372e-3fc7-4a64-9d24-cb1e73d19193",
   "metadata": {},
   "outputs": [
    {
     "data": {
      "text/plain": [
       "normal      272522\n",
       "major       272522\n",
       "critical    272522\n",
       "minor       272522\n",
       "blocker     272522\n",
       "Name: severity, dtype: int64"
      ]
     },
     "execution_count": 9,
     "metadata": {},
     "output_type": "execute_result"
    }
   ],
   "source": [
    "from sklearn.utils import resample\n",
    "def resample_df(df):\n",
    "    return resample(df,replace=True,n_samples=272522,random_state=1)\n",
    "\n",
    "\n",
    "df_major = resample_df(df_major)\n",
    "df_critical = resample_df(df_critical)\n",
    "df_minor = resample_df(df_minor)\n",
    "df_blocker = resample_df(df_blocker)\n",
    "# df_trivial = resample_df(df_trivial)\n",
    "# df_enhancement = resample_df(df_enhancement)\n",
    "\n",
    "# df = pd.concat([df_normal,df_major,df_critical,df_minor,df_blocker,df_trivial,df_enhancement])\n",
    "df = pd.concat([df_normal,df_major,df_critical,df_minor,df_blocker])\n",
    "\n",
    "\n",
    "df.severity.value_counts()\n"
   ]
  },
  {
   "cell_type": "code",
   "execution_count": 10,
   "id": "f6f8db22-325e-4ee3-8e5a-564782ace204",
   "metadata": {},
   "outputs": [
    {
     "name": "stdout",
     "output_type": "stream",
     "text": [
      "1          layout bug: table cell overflows containing cell\n",
      "3         nested <TABLE>s: bgcolor of inner table not re...\n",
      "9         Incorrect display of CP-1250 pages in Unix ver...\n",
      "13            Fails to complie due to  having wrong include\n",
      "21           Missing \"&\" in parameter, cmd/xfe/forms.c:2116\n",
      "                                ...                        \n",
      "42355            mfcembed causes IPF in module WEBBRWSR.DLL\n",
      "19325     won't build from src on Solaris 2.5.1, gcc 2.9...\n",
      "134469                            Eats up a loads of memory\n",
      "53575                             problem with installation\n",
      "91574     the text entry box cannot be selected and text...\n",
      "Name: description, Length: 1362610, dtype: object\n",
      "1         1\n",
      "3         1\n",
      "9         1\n",
      "13        1\n",
      "21        1\n",
      "         ..\n",
      "42355     4\n",
      "19325     4\n",
      "134469    4\n",
      "53575     4\n",
      "91574     4\n",
      "Name: severity_num, Length: 1362610, dtype: int64\n"
     ]
    }
   ],
   "source": [
    "#define x as bug description and y as the severity\n",
    "x = df.description\n",
    "y = df.severity_num\n",
    "print(x)\n",
    "print(y)"
   ]
  },
  {
   "cell_type": "code",
   "execution_count": 11,
   "id": "d258f92b-1187-45e4-bb7d-12e0675fb7a0",
   "metadata": {},
   "outputs": [],
   "source": [
    "from sklearn.model_selection import train_test_split\n",
    "x_train,x_test,y_train,y_test = train_test_split(x,y,test_size=0.33)\n"
   ]
  },
  {
   "cell_type": "code",
   "execution_count": 12,
   "id": "71fdd3d1-f478-48fc-9775-06849c9bd111",
   "metadata": {},
   "outputs": [],
   "source": [
    "#instantiate the vectorizer\n",
    "vect = CountVectorizer()"
   ]
  },
  {
   "cell_type": "code",
   "execution_count": 13,
   "id": "2c2c8815-51e1-453e-ae57-d356ef4254c8",
   "metadata": {},
   "outputs": [],
   "source": [
    "vect.fit(x_train)\n",
    "x_train_dtm = vect.transform(x_train)\n",
    "tfidf_transformer = TfidfTransformer()\n",
    "x_train_tfidf = tfidf_transformer.fit_transform(x_train_dtm)"
   ]
  },
  {
   "cell_type": "code",
   "execution_count": 14,
   "id": "e8cab569-0019-4b52-a629-186bdb4f38a0",
   "metadata": {},
   "outputs": [],
   "source": [
    "x_test_dtm = vect.transform(x_test)\n",
    "x_test_tfidf = tfidf_transformer.transform(x_test_dtm)"
   ]
  },
  {
   "cell_type": "code",
   "execution_count": 15,
   "id": "c25e72d3-b86a-4605-911d-addc88d06a08",
   "metadata": {},
   "outputs": [
    {
     "name": "stdout",
     "output_type": "stream",
     "text": [
      "CPU times: user 5min 19s, sys: 415 ms, total: 5min 19s\n",
      "Wall time: 1h 54min 57s\n"
     ]
    },
    {
     "data": {
      "text/html": [
       "<style>#sk-container-id-1 {color: black;background-color: white;}#sk-container-id-1 pre{padding: 0;}#sk-container-id-1 div.sk-toggleable {background-color: white;}#sk-container-id-1 label.sk-toggleable__label {cursor: pointer;display: block;width: 100%;margin-bottom: 0;padding: 0.3em;box-sizing: border-box;text-align: center;}#sk-container-id-1 label.sk-toggleable__label-arrow:before {content: \"▸\";float: left;margin-right: 0.25em;color: #696969;}#sk-container-id-1 label.sk-toggleable__label-arrow:hover:before {color: black;}#sk-container-id-1 div.sk-estimator:hover label.sk-toggleable__label-arrow:before {color: black;}#sk-container-id-1 div.sk-toggleable__content {max-height: 0;max-width: 0;overflow: hidden;text-align: left;background-color: #f0f8ff;}#sk-container-id-1 div.sk-toggleable__content pre {margin: 0.2em;color: black;border-radius: 0.25em;background-color: #f0f8ff;}#sk-container-id-1 input.sk-toggleable__control:checked~div.sk-toggleable__content {max-height: 200px;max-width: 100%;overflow: auto;}#sk-container-id-1 input.sk-toggleable__control:checked~label.sk-toggleable__label-arrow:before {content: \"▾\";}#sk-container-id-1 div.sk-estimator input.sk-toggleable__control:checked~label.sk-toggleable__label {background-color: #d4ebff;}#sk-container-id-1 div.sk-label input.sk-toggleable__control:checked~label.sk-toggleable__label {background-color: #d4ebff;}#sk-container-id-1 input.sk-hidden--visually {border: 0;clip: rect(1px 1px 1px 1px);clip: rect(1px, 1px, 1px, 1px);height: 1px;margin: -1px;overflow: hidden;padding: 0;position: absolute;width: 1px;}#sk-container-id-1 div.sk-estimator {font-family: monospace;background-color: #f0f8ff;border: 1px dotted black;border-radius: 0.25em;box-sizing: border-box;margin-bottom: 0.5em;}#sk-container-id-1 div.sk-estimator:hover {background-color: #d4ebff;}#sk-container-id-1 div.sk-parallel-item::after {content: \"\";width: 100%;border-bottom: 1px solid gray;flex-grow: 1;}#sk-container-id-1 div.sk-label:hover label.sk-toggleable__label {background-color: #d4ebff;}#sk-container-id-1 div.sk-serial::before {content: \"\";position: absolute;border-left: 1px solid gray;box-sizing: border-box;top: 0;bottom: 0;left: 50%;z-index: 0;}#sk-container-id-1 div.sk-serial {display: flex;flex-direction: column;align-items: center;background-color: white;padding-right: 0.2em;padding-left: 0.2em;position: relative;}#sk-container-id-1 div.sk-item {position: relative;z-index: 1;}#sk-container-id-1 div.sk-parallel {display: flex;align-items: stretch;justify-content: center;background-color: white;position: relative;}#sk-container-id-1 div.sk-item::before, #sk-container-id-1 div.sk-parallel-item::before {content: \"\";position: absolute;border-left: 1px solid gray;box-sizing: border-box;top: 0;bottom: 0;left: 50%;z-index: -1;}#sk-container-id-1 div.sk-parallel-item {display: flex;flex-direction: column;z-index: 1;position: relative;background-color: white;}#sk-container-id-1 div.sk-parallel-item:first-child::after {align-self: flex-end;width: 50%;}#sk-container-id-1 div.sk-parallel-item:last-child::after {align-self: flex-start;width: 50%;}#sk-container-id-1 div.sk-parallel-item:only-child::after {width: 0;}#sk-container-id-1 div.sk-dashed-wrapped {border: 1px dashed gray;margin: 0 0.4em 0.5em 0.4em;box-sizing: border-box;padding-bottom: 0.4em;background-color: white;}#sk-container-id-1 div.sk-label label {font-family: monospace;font-weight: bold;display: inline-block;line-height: 1.2em;}#sk-container-id-1 div.sk-label-container {text-align: center;}#sk-container-id-1 div.sk-container {/* jupyter's `normalize.less` sets `[hidden] { display: none; }` but bootstrap.min.css set `[hidden] { display: none !important; }` so we also need the `!important` here to be able to override the default hidden behavior on the sphinx rendered scikit-learn.org. See: https://github.com/scikit-learn/scikit-learn/issues/21755 */display: inline-block !important;position: relative;}#sk-container-id-1 div.sk-text-repr-fallback {display: none;}</style><div id=\"sk-container-id-1\" class=\"sk-top-container\"><div class=\"sk-text-repr-fallback\"><pre>DecisionTreeClassifier(max_depth=50)</pre><b>In a Jupyter environment, please rerun this cell to show the HTML representation or trust the notebook. <br />On GitHub, the HTML representation is unable to render, please try loading this page with nbviewer.org.</b></div><div class=\"sk-container\" hidden><div class=\"sk-item\"><div class=\"sk-estimator sk-toggleable\"><input class=\"sk-toggleable__control sk-hidden--visually\" id=\"sk-estimator-id-1\" type=\"checkbox\" checked><label for=\"sk-estimator-id-1\" class=\"sk-toggleable__label sk-toggleable__label-arrow\">DecisionTreeClassifier</label><div class=\"sk-toggleable__content\"><pre>DecisionTreeClassifier(max_depth=50)</pre></div></div></div></div></div>"
      ],
      "text/plain": [
       "DecisionTreeClassifier(max_depth=50)"
      ]
     },
     "execution_count": 15,
     "metadata": {},
     "output_type": "execute_result"
    }
   ],
   "source": [
    "dt = DecisionTreeClassifier(max_depth=50)\n",
    "%time dt.fit(x_train_tfidf,y_train)"
   ]
  },
  {
   "cell_type": "code",
   "execution_count": 16,
   "id": "77638c27-03fe-4a22-9ff0-f7c0d5a4c757",
   "metadata": {},
   "outputs": [
    {
     "data": {
      "text/plain": [
       "0.5402257695780386"
      ]
     },
     "execution_count": 16,
     "metadata": {},
     "output_type": "execute_result"
    }
   ],
   "source": [
    "y_pred = dt.predict(x_test_tfidf)\n",
    "from sklearn import metrics\n",
    "metrics.accuracy_score(y_test, y_pred)"
   ]
  },
  {
   "cell_type": "code",
   "execution_count": 17,
   "id": "a44913b1-64fd-45b6-846f-4f9a4ca51a8e",
   "metadata": {},
   "outputs": [
    {
     "data": {
      "text/plain": [
       "array([[45641, 31856, 11303,   650,   305],\n",
       "       [25457, 42977, 14257,  4773,  1896],\n",
       "       [22236, 30217, 32843,  4070,   871],\n",
       "       [ 6300, 13820,  7720, 61124,   908],\n",
       "       [ 5824, 20005,  3843,   432, 60334]])"
      ]
     },
     "execution_count": 17,
     "metadata": {},
     "output_type": "execute_result"
    }
   ],
   "source": [
    "from sklearn.metrics import confusion_matrix\n",
    "conf_mat = confusion_matrix(y_test, y_pred)\n",
    "conf_mat"
   ]
  },
  {
   "cell_type": "code",
   "execution_count": 18,
   "id": "fc3c9300-c5c0-412e-a591-e96ecf1d06a6",
   "metadata": {},
   "outputs": [],
   "source": [
    "cm_display = metrics.ConfusionMatrixDisplay(confusion_matrix = conf_mat, display_labels = ['minor','normal','major','critical','blocker'])\n",
    "# cm_display = metrics.ConfusionMatrixDisplay(confusion_matrix = conf_mat, display_labels = ['normal','minor','major','critical'])"
   ]
  },
  {
   "cell_type": "code",
   "execution_count": 19,
   "id": "2b1a68e6-42bf-410c-acfa-3752212979e0",
   "metadata": {},
   "outputs": [
    {
     "data": {
      "image/png": "[encoded data removed]",
      "text/plain": [
       "<Figure size 640x480 with 2 Axes>"
      ]
     },
     "metadata": {},
     "output_type": "display_data"
    }
   ],
   "source": [
    "cm_display.plot()\n",
    "plt.show()\n"
   ]
  },
  {
   "cell_type": "code",
   "execution_count": null,
   "id": "5dfd7713-578c-4138-9cf5-375eb19ba134",
   "metadata": {},
   "outputs": [],
   "source": []
  },
  {
   "cell_type": "code",
   "execution_count": null,
   "id": "5a1f6078-fce0-461b-8e88-801f122ae0f4",
   "metadata": {},
   "outputs": [],
   "source": []
  },
  {
   "cell_type": "code",
   "execution_count": null,
   "id": "066339c2-ba11-4f23-93fb-4da71dcc7f2b",
   "metadata": {},
   "outputs": [],
   "source": []
  }
 ],
 "metadata": {
  "kernelspec": {
   "display_name": "Python 3 (ipykernel)",
   "language": "python",
   "name": "python3"
  },
  "language_info": {
   "codemirror_mode": {
    "name": "ipython",
    "version": 3
   },
   "file_extension": ".py",
   "mimetype": "text/x-python",
   "name": "python",
   "nbconvert_exporter": "python",
   "pygments_lexer": "ipython3",
   "version": "3.10.6"
  }
 },
 "nbformat": 4,
 "nbformat_minor": 5
}

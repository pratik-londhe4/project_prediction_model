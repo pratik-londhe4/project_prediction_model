{
 "cells": [
  {
   "cell_type": "code",
   "execution_count": null,
   "id": "df8ac823-d324-40db-b3cd-491c0f43f7da",
   "metadata": {},
   "outputs": [],
   "source": [
    "import pandas as pd\n",
    "import numpy as np\n",
    "from sklearn.feature_extraction.text import CountVectorizer\n",
    "from sklearn.svm import SVC\n",
    "import matplotlib.pyplot as plt\n",
    "from sklearn.neighbors import KNeighborsClassifier\n",
    "from sklearn.feature_extraction.text import TfidfTransformer\n",
    "from sklearn.metrics import classification_report"
   ]
  },
  {
   "cell_type": "code",
   "execution_count": 13,
   "id": "d89fe235-ab05-4a33-b880-c83c8d6cfbef",
   "metadata": {},
   "outputs": [
    {
     "data": {
      "text/html": [
       "<div>\n",
       "<style scoped>\n",
       "    .dataframe tbody tr th:only-of-type {\n",
       "        vertical-align: middle;\n",
       "    }\n",
       "\n",
       "    .dataframe tbody tr th {\n",
       "        vertical-align: top;\n",
       "    }\n",
       "\n",
       "    .dataframe thead th {\n",
       "        text-align: right;\n",
       "    }\n",
       "</style>\n",
       "<table border=\"1\" class=\"dataframe\">\n",
       "  <thead>\n",
       "    <tr style=\"text-align: right;\">\n",
       "      <th></th>\n",
       "      <th>id</th>\n",
       "      <th>description</th>\n",
       "      <th>severity</th>\n",
       "    </tr>\n",
       "  </thead>\n",
       "  <tbody>\n",
       "    <tr>\n",
       "      <th>0</th>\n",
       "      <td>91</td>\n",
       "      <td>document properties cannot be listed</td>\n",
       "      <td>major</td>\n",
       "    </tr>\n",
       "    <tr>\n",
       "      <th>1</th>\n",
       "      <td>103</td>\n",
       "      <td>layout bug: table cell overflows containing cell</td>\n",
       "      <td>normal</td>\n",
       "    </tr>\n",
       "    <tr>\n",
       "      <th>2</th>\n",
       "      <td>104</td>\n",
       "      <td>table saved as text: missing inter-column space</td>\n",
       "      <td>minor</td>\n",
       "    </tr>\n",
       "    <tr>\n",
       "      <th>3</th>\n",
       "      <td>105</td>\n",
       "      <td>nested &lt;TABLE&gt;s: bgcolor of inner table not re...</td>\n",
       "      <td>normal</td>\n",
       "    </tr>\n",
       "    <tr>\n",
       "      <th>4</th>\n",
       "      <td>133</td>\n",
       "      <td>Navigator draws entities like &amp;lt;&amp;amp;&amp;gt; as...</td>\n",
       "      <td>minor</td>\n",
       "    </tr>\n",
       "  </tbody>\n",
       "</table>\n",
       "</div>"
      ],
      "text/plain": [
       "    id                                        description severity\n",
       "0   91               document properties cannot be listed    major\n",
       "1  103   layout bug: table cell overflows containing cell   normal\n",
       "2  104    table saved as text: missing inter-column space    minor\n",
       "3  105  nested <TABLE>s: bgcolor of inner table not re...   normal\n",
       "4  133  Navigator draws entities like &lt;&amp;&gt; as...    minor"
      ]
     },
     "execution_count": 13,
     "metadata": {},
     "output_type": "execute_result"
    }
   ],
   "source": [
    "df = pd.read_csv(\"bug_data_exported.csv\")\n",
    "df.head()"
   ]
  },
  {
   "cell_type": "code",
   "execution_count": 14,
   "id": "6d462fd4-e22c-4683-95a4-6baec3645ec1",
   "metadata": {},
   "outputs": [],
   "source": [
    "df = df.dropna()\n"
   ]
  },
  {
   "cell_type": "code",
   "execution_count": 15,
   "id": "52f9c052-a3e0-4a00-a8c3-aea2adfb7b1e",
   "metadata": {},
   "outputs": [
    {
     "data": {
      "text/plain": [
       "normal      272520\n",
       "major        35898\n",
       "critical     31953\n",
       "minor        19451\n",
       "blocker       3694\n",
       "Name: severity, dtype: int64"
      ]
     },
     "execution_count": 15,
     "metadata": {},
     "output_type": "execute_result"
    }
   ],
   "source": [
    "df.severity.value_counts()"
   ]
  },
  {
   "cell_type": "code",
   "execution_count": 16,
   "id": "82daeb25-df48-4877-956f-2c01f8a791e7",
   "metadata": {},
   "outputs": [],
   "source": [
    "df['severity_num'] = df.severity.map({'minor':0,'normal':1,'major':2,'critical':4,'blocker':5})\n"
   ]
  },
  {
   "cell_type": "code",
   "execution_count": 17,
   "id": "9cafb7fc-5c0e-4ffc-b282-6af38aa3776b",
   "metadata": {},
   "outputs": [],
   "source": [
    "df_normal = df[df.severity_num==1]\n",
    "df_major = df[df.severity_num==2]\n",
    "df_critical = df[df.severity_num==4]\n",
    "df_minor = df[df.severity_num==0]\n",
    "df_blocker = df[df.severity_num==5]"
   ]
  },
  {
   "cell_type": "code",
   "execution_count": 18,
   "id": "b3d7ba11-8340-4ff2-9042-843e57ee5a4f",
   "metadata": {},
   "outputs": [
    {
     "data": {
      "text/plain": [
       "normal      30000\n",
       "major       30000\n",
       "critical    30000\n",
       "minor       30000\n",
       "blocker     30000\n",
       "Name: severity, dtype: int64"
      ]
     },
     "execution_count": 18,
     "metadata": {},
     "output_type": "execute_result"
    }
   ],
   "source": [
    "from sklearn.utils import resample\n",
    "def resample_df(df):\n",
    "    return resample(df,replace=True,n_samples=30000,random_state=123)\n",
    "\n",
    "df_normal = resample_df(df_normal)\n",
    "df_major = resample_df(df_major)\n",
    "df_critical = resample_df(df_critical)\n",
    "df_minor = resample_df(df_minor)\n",
    "df_blocker = resample_df(df_blocker)\n",
    "\n",
    "df = pd.concat([df_normal,df_major,df_critical,df_minor,df_blocker])\n",
    "\n",
    "df.severity.value_counts()\n"
   ]
  },
  {
   "cell_type": "code",
   "execution_count": 19,
   "id": "b0dae387-0687-4436-91ee-0e21eb1733ef",
   "metadata": {},
   "outputs": [
    {
     "name": "stdout",
     "output_type": "stream",
     "text": [
      "(150000,)\n",
      "(150000,)\n"
     ]
    }
   ],
   "source": [
    "#define x as bug description and y as the severity\n",
    "x = df.description\n",
    "y = df.severity_num\n",
    "print(x.shape)\n",
    "print(y.shape)"
   ]
  },
  {
   "cell_type": "code",
   "execution_count": 20,
   "id": "a077944c-4aae-4efd-b98e-d6c5c36d81ab",
   "metadata": {},
   "outputs": [],
   "source": [
    "from sklearn.model_selection import train_test_split\n",
    "x_train,x_test,y_train,y_test = train_test_split(x,y,test_size=0.33)\n"
   ]
  },
  {
   "cell_type": "code",
   "execution_count": 21,
   "id": "a7d6dc50-08aa-416a-ac77-076c84ab4234",
   "metadata": {},
   "outputs": [],
   "source": [
    "#instantiate the vectorizer\n",
    "vect = CountVectorizer()\n",
    "vect.fit(x_train)\n",
    "x_train_dtm = vect.transform(x_train)\n",
    "tfdf_transformer = TfidfTransformer()\n",
    "x_train_tfdf = tfdf_transformer.fit_transform(x_train_dtm)"
   ]
  },
  {
   "cell_type": "code",
   "execution_count": null,
   "id": "88063343-b6e8-431d-921b-eb2539b81e54",
   "metadata": {},
   "outputs": [],
   "source": [
    "svm = SVC(kernel='rbf',C=10,gamma=0.1)\n",
    "svm.fit(x_train_tfdf,y_train)"
   ]
  },
  {
   "cell_type": "code",
   "execution_count": null,
   "id": "6f15c1c8-48fe-4b63-b79b-51633c31a2dd",
   "metadata": {},
   "outputs": [],
   "source": [
    "x_test_dtm = vect.transform(x_test)\n",
    "x_test_tfdf = tfdf_transformer.transform(x_test_dtm)"
   ]
  },
  {
   "cell_type": "code",
   "execution_count": null,
   "id": "32892ccd-3b17-4d5f-9276-50c73b66ed10",
   "metadata": {},
   "outputs": [],
   "source": [
    "y_pred = svm.predict(x_test_tfdf)"
   ]
  },
  {
   "cell_type": "code",
   "execution_count": null,
   "id": "a09e291f-61aa-47cd-9420-336f161817d6",
   "metadata": {},
   "outputs": [],
   "source": [
    "print(classification_report(y_test,y_pred))"
   ]
  }
 ],
 "metadata": {
  "kernelspec": {
   "display_name": "Python 3 (ipykernel)",
   "language": "python",
   "name": "python3"
  },
  "language_info": {
   "codemirror_mode": {
    "name": "ipython",
    "version": 3
   },
   "file_extension": ".py",
   "mimetype": "text/x-python",
   "name": "python",
   "nbconvert_exporter": "python",
   "pygments_lexer": "ipython3",
   "version": "3.10.6"
  }
 },
 "nbformat": 4,
 "nbformat_minor": 5
}
